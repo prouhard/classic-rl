{
 "cells": [
  {
   "cell_type": "markdown",
   "metadata": {},
   "source": [
    "# Gridworld random policy evaluation (Example 4.1)"
   ]
  },
  {
   "cell_type": "code",
   "execution_count": 1,
   "metadata": {},
   "outputs": [],
   "source": [
    "from typing import Dict, List, Optional, Set, Tuple\n",
    "\n",
    "import abc\n",
    "import enum\n",
    "import numpy as np"
   ]
  },
  {
   "cell_type": "code",
   "execution_count": 2,
   "metadata": {},
   "outputs": [],
   "source": [
    "class Action(enum.Enum):\n",
    "    LEFT: int = 0\n",
    "    RIGHT: int = 1\n",
    "    UP: int = 2\n",
    "    DOWN: int = 3\n",
    "\n",
    "\n",
    "State = Tuple[int, int]\n",
    "\n",
    "\n",
    "class GridWorld:\n",
    "\n",
    "    _n: int\n",
    "    _state: State\n",
    "\n",
    "    _MOVE: Dict[Action, State] = {\n",
    "        Action.LEFT: (0, -1),\n",
    "        Action.RIGHT: (0, 1),\n",
    "        Action.UP: (-1, 0),\n",
    "        Action.DOWN: (1, 0),\n",
    "    }\n",
    "\n",
    "    def __init__(self, n: int, state: Optional[State] = None) -> None:\n",
    "        self._n = n\n",
    "    \n",
    "    def transition(self, state: State, action: Action, next_state: State) -> float:\n",
    "        \"\"\"Return the probability of goig to `next_state` from `state` by doing `action`.\n",
    "        Here, it is deterministic, we just have to check if when applied `action`,\n",
    "        we go to the `next_state`.\n",
    "        \"\"\"\n",
    "        return float(self._move(state, action) == next_state)\n",
    "    \n",
    "    def get_states(self) -> List[State]:\n",
    "        return [ \n",
    "            (x, y)\n",
    "            for y in range(self._n)\n",
    "            for x in range(self._n)\n",
    "        ]\n",
    "\n",
    "    def get_non_terminal_states(self) -> List[State]:\n",
    "        return [ \n",
    "            state\n",
    "            for state in self.get_states()\n",
    "            if state not in self.get_terminal_states()\n",
    "        ]\n",
    "    \n",
    "    def get_terminal_states(self) -> List[State]:\n",
    "        return [(0, 0), (self._n - 1, self._n - 1)]\n",
    "    \n",
    "    def get_reachable_states(self, state: State) -> Set[State]:\n",
    "        return {self._move(state, action) for action in Action}\n",
    "\n",
    "    def _move(self, state: State, action: Action) -> State:\n",
    "        return self._bound_state(tuple(map(sum, zip(state, self._MOVE[action]))))\n",
    "\n",
    "    def _bound_state(self, state: State) -> State:\n",
    "        x, y = state\n",
    "        return self._bound_coordinate(x), self._bound_coordinate(y)\n",
    "\n",
    "    def _bound_coordinate(self, coordinate: int) -> int:\n",
    "        return min(max(coordinate, 0), self._n - 1)"
   ]
  },
  {
   "cell_type": "code",
   "execution_count": 3,
   "metadata": {},
   "outputs": [],
   "source": [
    "class Policy(metaclass=abc.ABCMeta):\n",
    "    @abc.abstractmethod\n",
    "    def probability(self, action: Action, state: State) -> float:\n",
    "        \"\"\"Return the probability of choosing `action` when in `state`.\"\"\"\n",
    "        pass\n",
    "\n",
    "\n",
    "class RandomPolicy(Policy):\n",
    "    def probability(self, action: Action, state: State) -> float:\n",
    "        \"\"\"Equal probability to choose every action.\"\"\"\n",
    "        return 1 / len(Action)"
   ]
  },
  {
   "cell_type": "markdown",
   "metadata": {},
   "source": [
    "# Value estimation"
   ]
  },
  {
   "cell_type": "code",
   "execution_count": 4,
   "metadata": {},
   "outputs": [],
   "source": [
    "n = 4\n",
    "env = GridWorld(n)\n",
    "gamma = 1\n",
    "theta = 0.0001\n",
    "policy = RandomPolicy()\n",
    "states = env.get_states()\n",
    "non_terminal_states = env.get_non_terminal_states()\n",
    "V = {state: 0.0 for state in states}\n",
    "delta = float(\"inf\")\n",
    "\n",
    "while delta > theta:\n",
    "    delta = 0\n",
    "    for state in non_terminal_states:\n",
    "        v = V[state]\n",
    "        V[state] = sum(\n",
    "            policy.probability(action, state) * sum(\n",
    "                env.transition(state, action, next_state) * (-1 + gamma * V[next_state])\n",
    "                for next_state in env.get_reachable_states(state)\n",
    "            )\n",
    "            for action in Action\n",
    "        )\n",
    "        delta = max(delta, abs(v - V[state]))"
   ]
  },
  {
   "cell_type": "code",
   "execution_count": 5,
   "metadata": {},
   "outputs": [
    {
     "name": "stdout",
     "output_type": "stream",
     "text": [
      "[[  0. -14. -20. -22.]\n",
      " [-14. -18. -20. -20.]\n",
      " [-20. -20. -18. -14.]\n",
      " [-22. -20. -14.   0.]]\n"
     ]
    }
   ],
   "source": [
    "V_array = np.zeros((n, n))\n",
    "for (row, col), value in V.items():\n",
    "    V_array[row, col] = value\n",
    "print(np.round(V_array, 1))"
   ]
  },
  {
   "cell_type": "code",
   "execution_count": null,
   "metadata": {},
   "outputs": [],
   "source": []
  }
 ],
 "metadata": {
  "kernelspec": {
   "display_name": "Python RL (3.9.0)",
   "language": "python",
   "name": "python3"
  },
  "language_info": {
   "codemirror_mode": {
    "name": "ipython",
    "version": 3
   },
   "file_extension": ".py",
   "mimetype": "text/x-python",
   "name": "python",
   "nbconvert_exporter": "python",
   "pygments_lexer": "ipython3",
   "version": "3.9.0"
  }
 },
 "nbformat": 4,
 "nbformat_minor": 2
}
