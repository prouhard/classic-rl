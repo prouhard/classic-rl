{
 "cells": [
  {
   "cell_type": "code",
   "execution_count": 30,
   "metadata": {},
   "outputs": [],
   "source": [
    "import matplotlib.pyplot as plt\n",
    "import numpy as np\n",
    "\n",
    "%matplotlib inline"
   ]
  },
  {
   "cell_type": "code",
   "execution_count": 51,
   "metadata": {},
   "outputs": [],
   "source": [
    "class ArmedBandit:\n",
    "    \n",
    "    def __init__(self, arms: int = 0, baseline: float = 0.0) -> None:\n",
    "        self._q = np.random.normal(loc=baseline, size=arms)\n",
    "    \n",
    "    def pull(self, arm: int) -> float:\n",
    "        return np.random.normal(loc=self._q[arm])\n",
    "\n",
    "\n",
    "class NonStationaryArmedBandit(ArmedBandit):\n",
    "\n",
    "    def pull(self, arm: int) -> float:\n",
    "        reward = np.random.normal(loc=self._q[arm])\n",
    "        self._q += np.random.normal(scale=0.01, size=arms)\n",
    "        return reward"
   ]
  },
  {
   "cell_type": "markdown",
   "metadata": {},
   "source": [
    "# $\\epsilon$-greedy bandit with decreasing alpha"
   ]
  },
  {
   "cell_type": "code",
   "execution_count": 33,
   "metadata": {},
   "outputs": [
    {
     "name": "stdout",
     "output_type": "stream",
     "text": [
      "Run n° 1999\r"
     ]
    },
    {
     "data": {
      "text/plain": [
       "[<matplotlib.lines.Line2D at 0x7f87aa152940>]"
      ]
     },
     "execution_count": 33,
     "metadata": {},
     "output_type": "execute_result"
    },
    {
     "data": {
      "image/png": "[encoded data removed]",
      "text/plain": [
       "<Figure size 432x288 with 1 Axes>"
      ]
     },
     "metadata": {
      "needs_background": "light"
     },
     "output_type": "display_data"
    }
   ],
   "source": [
    "# Simulation parameters for the 10-armed testbed\n",
    "arms = 10\n",
    "steps = 1000\n",
    "runs = 2000\n",
    "epsilon = 0.1\n",
    "\n",
    "rewards = np.zeros((runs, steps))\n",
    "\n",
    "for run in range(runs):\n",
    "\n",
    "    print(f\"Run n° {1 + run}\", end=\"\\r\")\n",
    "\n",
    "    armed_bandit = ArmedBandit(arms)\n",
    "    estimated_rewards = np.zeros(arms)\n",
    "    times_pulled = np.zeros(arms)\n",
    "\n",
    "    for step in range(steps):\n",
    "        if np.random.uniform() < epsilon:\n",
    "            # Explore\n",
    "            arm = np.random.randint(arms)\n",
    "        else:\n",
    "            # Greedily select maximum reward action\n",
    "            arm = np.argmax(estimated_rewards)\n",
    "        reward = armed_bandit.pull(arm)\n",
    "        times_pulled[arm] += 1\n",
    "        # Online update of the mean reward for this acton\n",
    "        estimated_rewards[arm] += (reward - estimated_rewards[arm]) / times_pulled[arm]\n",
    "        rewards[run][step] = reward\n",
    "\n",
    "plt.plot(np.mean(rewards, axis=0))"
   ]
  },
  {
   "cell_type": "markdown",
   "metadata": {},
   "source": [
    "# Non-stationary $\\epsilon$-greedy bandit with constant alpha"
   ]
  },
  {
   "cell_type": "code",
   "execution_count": 36,
   "metadata": {
    "scrolled": true
   },
   "outputs": [
    {
     "name": "stdout",
     "output_type": "stream",
     "text": [
      "Run n° 2000\r"
     ]
    },
    {
     "data": {
      "text/plain": [
       "[<matplotlib.lines.Line2D at 0x7f87aa0bf190>]"
      ]
     },
     "execution_count": 36,
     "metadata": {},
     "output_type": "execute_result"
    },
    {
     "data": {
      "image/png": "[encoded data removed]",
      "text/plain": [
       "<Figure size 432x288 with 1 Axes>"
      ]
     },
     "metadata": {
      "needs_background": "light"
     },
     "output_type": "display_data"
    }
   ],
   "source": [
    "# Simulation parameters for the 10-armed testbed (non-stationary)\n",
    "# As seen on the graph below, the policy is actually following the trend\n",
    "arms = 10\n",
    "steps = 10000\n",
    "runs = 2000\n",
    "epsilon = 0.1\n",
    "alpha = 0.1\n",
    "\n",
    "rewards = np.zeros((runs, steps))\n",
    "\n",
    "for run in range(runs):\n",
    "\n",
    "    print(f\"Run n° {1 + run}\", end=\"\\r\")\n",
    "\n",
    "    armed_bandit = NonStationaryArmedBandit(arms)\n",
    "    estimated_rewards = np.zeros(arms)\n",
    "\n",
    "    for step in range(steps):\n",
    "        if np.random.uniform() < epsilon:\n",
    "            # Explore\n",
    "            arm = np.random.randint(arms)\n",
    "        else:\n",
    "            # Greedily select maximum reward action\n",
    "            arm = np.argmax(estimated_rewards)\n",
    "        reward = armed_bandit.pull(arm)\n",
    "        # Online update of the value for this acton\n",
    "        estimated_rewards[arm] += (reward - estimated_rewards[arm]) * alpha\n",
    "        rewards[run][step] = reward\n",
    "\n",
    "plt.plot(np.mean(rewards, axis=0))"
   ]
  },
  {
   "cell_type": "markdown",
   "metadata": {},
   "source": [
    "# Gradient bandit"
   ]
  },
  {
   "cell_type": "code",
   "execution_count": 55,
   "metadata": {},
   "outputs": [
    {
     "name": "stdout",
     "output_type": "stream",
     "text": [
      "Run n° 2000\r"
     ]
    },
    {
     "data": {
      "text/plain": [
       "[<matplotlib.lines.Line2D at 0x7f87ac3ff2e0>]"
      ]
     },
     "execution_count": 55,
     "metadata": {},
     "output_type": "execute_result"
    },
    {
     "data": {
      "image/png": "[encoded data removed]",
      "text/plain": [
       "<Figure size 432x288 with 1 Axes>"
      ]
     },
     "metadata": {
      "needs_background": "light"
     },
     "output_type": "display_data"
    }
   ],
   "source": [
    "# Simulation parameters for the 10-armed testbed with gradient policy and baseline\n",
    "arms = 10\n",
    "steps = 1000\n",
    "runs = 2000\n",
    "alpha = 0.1\n",
    "\n",
    "rewards = np.zeros((runs, steps))\n",
    "\n",
    "for run in range(runs):\n",
    "\n",
    "    print(f\"Run n° {1 + run}\", end=\"\\r\")\n",
    "\n",
    "    armed_bandit = ArmedBandit(arms, baseline=4.0)\n",
    "    preferences = np.zeros(arms)\n",
    "    average_reward = 0\n",
    "\n",
    "    for step in range(steps):\n",
    "        probabilities = np.exp(preferences) / np.sum(np.exp(preferences))\n",
    "        # Select action according to preference\n",
    "        arm = np.random.choice(arms, p=probabilities)\n",
    "        reward = armed_bandit.pull(arm)\n",
    "        # Online update of the average reward\n",
    "        average_reward += (reward - average_reward) / (1 + step)\n",
    "        # online update of the preferences\n",
    "        preferences[arm] += (reward - average_reward) * alpha\n",
    "        preferences -= (reward - average_reward) * alpha * probabilities\n",
    "        rewards[run][step] = reward\n",
    "\n",
    "plt.plot(np.mean(rewards, axis=0))"
   ]
  },
  {
   "cell_type": "code",
   "execution_count": null,
   "metadata": {},
   "outputs": [],
   "source": []
  }
 ],
 "metadata": {
  "kernelspec": {
   "display_name": "Python RL (3.9.0)",
   "language": "python",
   "name": "python3"
  },
  "language_info": {
   "codemirror_mode": {
    "name": "ipython",
    "version": 3
   },
   "file_extension": ".py",
   "mimetype": "text/x-python",
   "name": "python",
   "nbconvert_exporter": "python",
   "pygments_lexer": "ipython3",
   "version": "3.9.0"
  }
 },
 "nbformat": 4,
 "nbformat_minor": 4
}
